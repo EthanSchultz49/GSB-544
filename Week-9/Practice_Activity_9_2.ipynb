{
  "cells": [
    {
      "cell_type": "markdown",
      "metadata": {
        "id": "P_N9XP2-04VH"
      },
      "source": [
        "\n",
        "Our dataset consists of clinical data from patients who entered the hospital complaining of chest pain (\"angina\") during exercise.  The information collected includes:\n",
        "\n",
        "* `age` : Age of the patient\n",
        "\n",
        "* `sex` : Sex of the patient\n",
        "\n",
        "* `cp` : Chest Pain type\n",
        "\n",
        "    + Value 0: asymptomatic\n",
        "    + Value 1: typical angina\n",
        "    + Value 2: atypical angina\n",
        "    + Value 3: non-anginal pain\n",
        "   \n",
        "    \n",
        "* `trtbps` : resting blood pressure (in mm Hg)\n",
        "\n",
        "* `chol` : cholesterol in mg/dl fetched via BMI sensor\n",
        "\n",
        "* `restecg` : resting electrocardiographic results\n",
        "\n",
        "    + Value 0: normal\n",
        "    + Value 1: having ST-T wave abnormality (T wave inversions and/or ST elevation or depression of > 0.05 mV)\n",
        "    + Value 2: showing probable or definite left ventricular hypertrophy by Estes' criteria\n",
        "\n",
        "* `thalach` : maximum heart rate achieved during exercise\n",
        "\n",
        "* `output` : the doctor's diagnosis of whether the patient is at risk for a heart attack\n",
        "    + 0 = not at risk of heart attack\n",
        "    + 1 = at risk of heart attack"
      ]
    },
    {
      "cell_type": "code",
      "execution_count": 1,
      "metadata": {
        "id": "tZmjmGGQ1CaN"
      },
      "outputs": [],
      "source": [
        "import pandas as pd\n",
        "import numpy as np\n",
        "from sklearn.linear_model import LogisticRegression\n",
        "from sklearn.model_selection import train_test_split, cross_val_score, GridSearchCV\n",
        "from sklearn.preprocessing import StandardScaler, OneHotEncoder\n",
        "from sklearn.compose import ColumnTransformer, make_column_selector\n",
        "from sklearn.pipeline import Pipeline\n",
        "from sklearn.neighbors import KNeighborsClassifier\n",
        "from sklearn.tree import DecisionTreeClassifier\n",
        "from sklearn.metrics import roc_auc_score, confusion_matrix, roc_curve,auc\n",
        "from plotnine import *"
      ]
    },
    {
      "cell_type": "code",
      "execution_count": 2,
      "metadata": {
        "id": "ghXbwhv600-S"
      },
      "outputs": [
        {
          "data": {
            "text/html": [
              "<div>\n",
              "<style scoped>\n",
              "    .dataframe tbody tr th:only-of-type {\n",
              "        vertical-align: middle;\n",
              "    }\n",
              "\n",
              "    .dataframe tbody tr th {\n",
              "        vertical-align: top;\n",
              "    }\n",
              "\n",
              "    .dataframe thead th {\n",
              "        text-align: right;\n",
              "    }\n",
              "</style>\n",
              "<table border=\"1\" class=\"dataframe\">\n",
              "  <thead>\n",
              "    <tr style=\"text-align: right;\">\n",
              "      <th></th>\n",
              "      <th>age</th>\n",
              "      <th>sex</th>\n",
              "      <th>cp</th>\n",
              "      <th>trtbps</th>\n",
              "      <th>chol</th>\n",
              "      <th>restecg</th>\n",
              "      <th>thalach</th>\n",
              "      <th>output</th>\n",
              "    </tr>\n",
              "  </thead>\n",
              "  <tbody>\n",
              "    <tr>\n",
              "      <th>0</th>\n",
              "      <td>63</td>\n",
              "      <td>1</td>\n",
              "      <td>3</td>\n",
              "      <td>145</td>\n",
              "      <td>233</td>\n",
              "      <td>0</td>\n",
              "      <td>150</td>\n",
              "      <td>1</td>\n",
              "    </tr>\n",
              "    <tr>\n",
              "      <th>1</th>\n",
              "      <td>37</td>\n",
              "      <td>1</td>\n",
              "      <td>2</td>\n",
              "      <td>130</td>\n",
              "      <td>250</td>\n",
              "      <td>1</td>\n",
              "      <td>187</td>\n",
              "      <td>1</td>\n",
              "    </tr>\n",
              "    <tr>\n",
              "      <th>2</th>\n",
              "      <td>56</td>\n",
              "      <td>1</td>\n",
              "      <td>1</td>\n",
              "      <td>120</td>\n",
              "      <td>236</td>\n",
              "      <td>1</td>\n",
              "      <td>178</td>\n",
              "      <td>1</td>\n",
              "    </tr>\n",
              "    <tr>\n",
              "      <th>3</th>\n",
              "      <td>57</td>\n",
              "      <td>0</td>\n",
              "      <td>0</td>\n",
              "      <td>120</td>\n",
              "      <td>354</td>\n",
              "      <td>1</td>\n",
              "      <td>163</td>\n",
              "      <td>1</td>\n",
              "    </tr>\n",
              "    <tr>\n",
              "      <th>4</th>\n",
              "      <td>57</td>\n",
              "      <td>1</td>\n",
              "      <td>0</td>\n",
              "      <td>140</td>\n",
              "      <td>192</td>\n",
              "      <td>1</td>\n",
              "      <td>148</td>\n",
              "      <td>1</td>\n",
              "    </tr>\n",
              "    <tr>\n",
              "      <th>...</th>\n",
              "      <td>...</td>\n",
              "      <td>...</td>\n",
              "      <td>...</td>\n",
              "      <td>...</td>\n",
              "      <td>...</td>\n",
              "      <td>...</td>\n",
              "      <td>...</td>\n",
              "      <td>...</td>\n",
              "    </tr>\n",
              "    <tr>\n",
              "      <th>268</th>\n",
              "      <td>59</td>\n",
              "      <td>1</td>\n",
              "      <td>0</td>\n",
              "      <td>164</td>\n",
              "      <td>176</td>\n",
              "      <td>0</td>\n",
              "      <td>90</td>\n",
              "      <td>0</td>\n",
              "    </tr>\n",
              "    <tr>\n",
              "      <th>269</th>\n",
              "      <td>57</td>\n",
              "      <td>0</td>\n",
              "      <td>0</td>\n",
              "      <td>140</td>\n",
              "      <td>241</td>\n",
              "      <td>1</td>\n",
              "      <td>123</td>\n",
              "      <td>0</td>\n",
              "    </tr>\n",
              "    <tr>\n",
              "      <th>270</th>\n",
              "      <td>45</td>\n",
              "      <td>1</td>\n",
              "      <td>3</td>\n",
              "      <td>110</td>\n",
              "      <td>264</td>\n",
              "      <td>1</td>\n",
              "      <td>132</td>\n",
              "      <td>0</td>\n",
              "    </tr>\n",
              "    <tr>\n",
              "      <th>271</th>\n",
              "      <td>68</td>\n",
              "      <td>1</td>\n",
              "      <td>0</td>\n",
              "      <td>144</td>\n",
              "      <td>193</td>\n",
              "      <td>1</td>\n",
              "      <td>141</td>\n",
              "      <td>0</td>\n",
              "    </tr>\n",
              "    <tr>\n",
              "      <th>272</th>\n",
              "      <td>57</td>\n",
              "      <td>0</td>\n",
              "      <td>1</td>\n",
              "      <td>130</td>\n",
              "      <td>236</td>\n",
              "      <td>0</td>\n",
              "      <td>174</td>\n",
              "      <td>0</td>\n",
              "    </tr>\n",
              "  </tbody>\n",
              "</table>\n",
              "<p>273 rows × 8 columns</p>\n",
              "</div>"
            ],
            "text/plain": [
              "     age  sex  cp  trtbps  chol  restecg  thalach  output\n",
              "0     63    1   3     145   233        0      150       1\n",
              "1     37    1   2     130   250        1      187       1\n",
              "2     56    1   1     120   236        1      178       1\n",
              "3     57    0   0     120   354        1      163       1\n",
              "4     57    1   0     140   192        1      148       1\n",
              "..   ...  ...  ..     ...   ...      ...      ...     ...\n",
              "268   59    1   0     164   176        0       90       0\n",
              "269   57    0   0     140   241        1      123       0\n",
              "270   45    1   3     110   264        1      132       0\n",
              "271   68    1   0     144   193        1      141       0\n",
              "272   57    0   1     130   236        0      174       0\n",
              "\n",
              "[273 rows x 8 columns]"
            ]
          },
          "execution_count": null,
          "metadata": {},
          "output_type": "execute_result"
        }
      ],
      "source": [
        "ha = pd.read_csv(\"https://www.dropbox.com/s/aohbr6yb9ifmc8w/heart_attack.csv?dl=1\")\n",
        "ha_clean = ha.dropna()\n",
        "ha_clean"
      ]
    },
    {
      "cell_type": "markdown",
      "metadata": {
        "id": "OCX180v41bhe"
      },
      "source": [
        "## Q1: Natural Multiclass Models\n",
        "\n",
        "Fit a multiclass KNN, Decision Tree, and LDA for the heart disease data; this time predicting the type of chest pain (categories 0 - 3) that a patient experiences.  For the decision tree, plot the fitted tree, and interpret the first couple splits.\n"
      ]
    },
    {
      "cell_type": "code",
      "execution_count": 3,
      "metadata": {
        "id": "WJsMBCZh1glq"
      },
      "outputs": [
        {
          "name": "stdout",
          "output_type": "stream",
          "text": [
            "Cross-validated Accuracy of the best model: 0.5928\n",
            "Accuracy on the test data: 0.5362\n",
            "Best value for k: 19\n",
            "Confusion Matrix:\n",
            "[[24  3  5  0]\n",
            " [ 5  4  2  0]\n",
            " [ 9  3  9  0]\n",
            " [ 0  0  5  0]]\n",
            "Cross-validated Accuracy of the best model: 0.5928\n",
            "Accuracy on the test data: 0.5362\n",
            "Best value for k: 19\n",
            "Confusion Matrix:\n",
            "[[24  3  5  0]\n",
            " [ 5  4  2  0]\n",
            " [ 9  3  9  0]\n",
            " [ 0  0  5  0]]\n"
          ]
        }
      ],
      "source": [
        "from sklearn.metrics import accuracy_score\n",
        "\n",
        "# Perform train-test split\n",
        "X = ha_clean.drop(columns=[\"cp\"])\n",
        "y = ha_clean[\"cp\"]\n",
        "X_train, X_test, y_train, y_test = train_test_split(X, y, test_size=0.25, random_state=42, stratify=y)\n",
        "\n",
        "# Define the preprocessing and model pipeline\n",
        "knn = KNeighborsClassifier()\n",
        "ct = ColumnTransformer(\n",
        "    [\n",
        "        (\"standardize\", StandardScaler(), [\"age\", \"trtbps\", \"chol\", \"thalach\"]),\n",
        "        (\"onehot\", OneHotEncoder(handle_unknown=\"ignore\"), [\"sex\", \"output\", \"restecg\"]),\n",
        "    ],\n",
        "    remainder=\"passthrough\"\n",
        ")\n",
        "\n",
        "knn_pipeline = Pipeline(\n",
        "    [\n",
        "        (\"preprocessing\", ct),\n",
        "        (\"Knn\", knn)\n",
        "    ]\n",
        ")\n",
        "\n",
        "# Hyperparameter tuning with GridSearchCV\n",
        "k = {\"Knn__n_neighbors\": np.arange(1, 50)}\n",
        "gscv = GridSearchCV(knn_pipeline, k, cv=5, scoring=\"accuracy\")  # Change scoring to \"accuracy\"\n",
        "gscv.fit(X_train, y_train)\n",
        "\n",
        "# Extract the best number of neighbors\n",
        "best_k = gscv.best_params_[\"Knn__n_neighbors\"]\n",
        "\n",
        "# Build the best model pipeline\n",
        "best_k_model = Pipeline(\n",
        "    [\n",
        "        (\"preprocessing\", ct),\n",
        "        (\"Knn\", KNeighborsClassifier(n_neighbors=best_k))\n",
        "    ]\n",
        ")\n",
        "\n",
        "# Fit the model on the training set\n",
        "best_model = best_k_model.fit(X_train, y_train)\n",
        "\n",
        "# Predict on the test data\n",
        "y_test_pred = best_model.predict(X_test)\n",
        "\n",
        "# Compute and print the accuracy score on the test set\n",
        "test_accuracy = accuracy_score(y_test, y_test_pred)\n",
        "print(f\"Cross-validated Accuracy of the best model: {gscv.best_score_:.4f}\")\n",
        "print(f\"Accuracy on the test data: {test_accuracy:.4f}\")\n",
        "print(f\"Best value for k: {best_k}\")\n",
        "# Confusion matrix\n",
        "cm = confusion_matrix(y_test, y_test_pred)\n",
        "print(\"Confusion Matrix:\")\n",
        "print(cm)\n"
      ]
    },
    {
      "cell_type": "code",
      "execution_count": 4,
      "metadata": {},
      "outputs": [
        {
          "name": "stdout",
          "output_type": "stream",
          "text": [
            "Cross-validated accuracy of the best model: 0.5833\n",
            "Accuracy on the test data: 0.5507\n",
            "Confusion Matrix:\n",
            "[[24  0  8  0]\n",
            " [ 4  0  7  0]\n",
            " [ 7  0 14  0]\n",
            " [ 0  0  5  0]]\n",
            "Cross-validated accuracy of the best model: 0.5833\n",
            "Accuracy on the test data: 0.5507\n",
            "Confusion Matrix:\n",
            "[[24  0  8  0]\n",
            " [ 4  0  7  0]\n",
            " [ 7  0 14  0]\n",
            " [ 0  0  5  0]]\n"
          ]
        },
        {
          "data": {
            "text/plain": [
              "1"
            ]
          },
          "execution_count": null,
          "metadata": {},
          "output_type": "execute_result"
        }
      ],
      "source": [
        "\n",
        "# Perform train-test split\n",
        "X = ha_clean.drop(columns=[\"cp\"])\n",
        "y = ha_clean[\"cp\"]\n",
        "X_train, X_test, y_train, y_test = train_test_split(X, y, test_size=0.25, random_state=42, stratify=y)\n",
        "# Define the preprocessing and model pipeline\n",
        "ct = ColumnTransformer(\n",
        "    [\n",
        "        (\"standardize\", StandardScaler(), [\"age\", \"trtbps\", \"chol\", \"thalach\"]),\n",
        "        (\"onehot\", OneHotEncoder(handle_unknown=\"ignore\"), [\"sex\", \"output\", \"restecg\"]),\n",
        "    ],\n",
        "    remainder=\"passthrough\"\n",
        ")\n",
        "\n",
        "dt_pipeline = Pipeline(\n",
        "    [\n",
        "        (\"preprocessing\", ct),\n",
        "        (\"DT\", DecisionTreeClassifier(random_state=42))\n",
        "    ]\n",
        ")\n",
        "\n",
        "# Hyperparameter tuning with GridSearchCV\n",
        "param_grid = {\"DT__max_depth\": np.arange(1, 21)}\n",
        "gscv = GridSearchCV(dt_pipeline, param_grid, cv=5, scoring=\"accuracy\")\n",
        "gscv.fit(X_train, y_train)\n",
        "\n",
        "# Extract the best max_depth\n",
        "best_tree_depth = gscv.best_params_[\"DT__max_depth\"]\n",
        "\n",
        "# Build the best model pipeline\n",
        "best_tree_model = Pipeline(\n",
        "    [\n",
        "        (\"preprocessing\", ct),\n",
        "        (\"DT\", DecisionTreeClassifier(max_depth=best_tree_depth, random_state=42))\n",
        "    ]\n",
        ")\n",
        "\n",
        "# Fit the model on the training set\n",
        "final_model = best_tree_model.fit(X_train, y_train)\n",
        "\n",
        "# Predict on the test data\n",
        "y_test_pred = final_model.predict(X_test)\n",
        "\n",
        "# Compute and print the accuracy score on the test set\n",
        "test_accuracy = accuracy_score(y_test, y_test_pred)\n",
        "print(f\"Cross-validated accuracy of the best model: {gscv.best_score_:.4f}\")\n",
        "print(f\"Accuracy on the test data: {test_accuracy:.4f}\")\n",
        "\n",
        "# Confusion matrix\n",
        "cm = confusion_matrix(y_test, y_test_pred)\n",
        "print(\"Confusion Matrix:\")\n",
        "print(cm)\n",
        "best_tree_depth\n"
      ]
    },
    {
      "cell_type": "code",
      "execution_count": 5,
      "metadata": {},
      "outputs": [
        {
          "data": {
            "image/png": "[encoded data removed]",
            "text/plain": [
              "<Figure size 1500x1000 with 1 Axes>"
            ]
          },
          "metadata": {},
          "output_type": "display_data"
        }
      ],
      "source": [
        "import matplotlib.pyplot as plt\n",
        "from sklearn.tree import plot_tree\n",
        "\n",
        "# Get the feature names after preprocessing\n",
        "feature_names = ct.get_feature_names_out()\n",
        "\n",
        "# Plot the decision tree\n",
        "plt.figure(figsize=(15, 10))\n",
        "plot_tree(\n",
        "    final_model.named_steps[\"DT\"],\n",
        "    feature_names=feature_names,\n",
        "    class_names=[str(cls) for cls in sorted(y.unique())],\n",
        "    filled=True,\n",
        "    rounded=True,\n",
        "    fontsize=10\n",
        ")\n",
        "plt.title(\"Decision Tree with Feature Names\")\n",
        "plt.show()\n"
      ]
    },
    {
      "cell_type": "markdown",
      "metadata": {
        "id": "gYqpOtbO1EAJ"
      },
      "source": [
        "## Q2:  OvR\n",
        "\n",
        "Create a new column in the `ha` dataset called `cp_is_3`, which is equal to `1` if the `cp` variable is equal to `3` and `0` otherwise.\n",
        "\n",
        "Then, fit a Logistic Regression to predict this new target, and report the **F1 Score**.\n",
        "\n",
        "Repeat for the other three `cp` categories.  Which category was the OvR approach best at distinguishing?"
      ]
    },
    {
      "cell_type": "code",
      "execution_count": 11,
      "metadata": {
        "id": "90PfjsjW1T2Y"
      },
      "outputs": [
        {
          "name": "stdout",
          "output_type": "stream",
          "text": [
            "Best Logistic parameters: {'logistic__C': 0.01}\n",
            "Best F1 Score (cp = 3): 0.0\n",
            "Best Logistic parameters: {'logistic__C': 0.01}\n",
            "Best F1 Score (cp = 3): 0.0\n"
          ]
        }
      ],
      "source": [
        "ha_clean[\"cp_is_3\"] = (ha_clean[\"cp\"] == 3).astype(int)\n",
        "X = ha_clean.drop(columns=[\"cp\",\"cp_is_3\"])\n",
        "y = ha_clean[\"cp_is_3\"]\n",
        "X_train, X_test, y_train, y_test = train_test_split(X, y, test_size=0.25, random_state=42, stratify=y)\n",
        "log_pipeline = Pipeline(\n",
        "    [\n",
        "        (\"preprocessing\", ct),\n",
        "        (\"logistic\", LogisticRegression())\n",
        "    ]\n",
        ")\n",
        "params = {\"logistic__C\":[0.01,0.1,1,10,100]}\n",
        "logistic_gscv = GridSearchCV(log_pipeline,params, cv=5,scoring=\"f1\")\n",
        "best_log_model = logistic_gscv.fit(X_train,y_train)\n",
        "print(f\"Best Logistic parameters: {logistic_gscv.best_params_}\")\n",
        "print(f\"Best F1 Score (cp = 3): {logistic_gscv.best_score_}\")"
      ]
    },
    {
      "cell_type": "code",
      "execution_count": 12,
      "metadata": {},
      "outputs": [
        {
          "name": "stdout",
          "output_type": "stream",
          "text": [
            "Best Logistic parameters: {'logistic__C': 100}\n",
            "Best F1 Score (cp = 2): 0.22848527969540217\n",
            "Best Logistic parameters: {'logistic__C': 100}\n",
            "Best F1 Score (cp = 2): 0.22848527969540217\n"
          ]
        }
      ],
      "source": [
        "ha_clean[\"cp_is_2\"] = (ha_clean[\"cp\"] == 2).astype(int)\n",
        "X = ha_clean.drop(columns=[\"cp\",\"cp_is_2\"])\n",
        "y = ha_clean[\"cp_is_2\"]\n",
        "X_train, X_test, y_train, y_test = train_test_split(X, y, test_size=0.25, random_state=42, stratify=y)\n",
        "log_pipeline = Pipeline(\n",
        "    [\n",
        "        (\"preprocessing\", ct),\n",
        "        (\"logistic\", LogisticRegression())\n",
        "    ]\n",
        ")\n",
        "params = {\"logistic__C\":[0.01,0.1,1,10,100]}\n",
        "logistic_gscv = GridSearchCV(log_pipeline,params, cv=5,scoring=\"f1\")\n",
        "best_log_model = logistic_gscv.fit(X_train,y_train)\n",
        "print(f\"Best Logistic parameters: {logistic_gscv.best_params_}\")\n",
        "print(f\"Best F1 Score (cp = 2): {logistic_gscv.best_score_}\")"
      ]
    },
    {
      "cell_type": "code",
      "execution_count": 13,
      "metadata": {},
      "outputs": [
        {
          "name": "stdout",
          "output_type": "stream",
          "text": [
            "Best Logistic parameters: {'logistic__C': 10}\n",
            "Best F1 Score (cp = 1): 0.45082251082251085\n",
            "Best Logistic parameters: {'logistic__C': 10}\n",
            "Best F1 Score (cp = 1): 0.45082251082251085\n"
          ]
        }
      ],
      "source": [
        "ha_clean[\"cp_is_1\"] = (ha_clean[\"cp\"] == 1).astype(int)\n",
        "X = ha_clean.drop(columns=[\"cp\",\"cp_is_1\"])\n",
        "y = ha_clean[\"cp_is_1\"]\n",
        "X_train, X_test, y_train, y_test = train_test_split(X, y, test_size=0.25, random_state=42, stratify=y)\n",
        "log_pipeline = Pipeline(\n",
        "    [\n",
        "        (\"preprocessing\", ct),\n",
        "        (\"logistic\", LogisticRegression())\n",
        "    ]\n",
        ")\n",
        "params = {\"logistic__C\":[0.01,0.1,1,10,100]}\n",
        "logistic_gscv = GridSearchCV(log_pipeline,params, cv=5,scoring=\"f1\")\n",
        "best_log_model = logistic_gscv.fit(X_train,y_train)\n",
        "print(f\"Best Logistic parameters: {logistic_gscv.best_params_}\")\n",
        "print(f\"Best F1 Score (cp = 1): {logistic_gscv.best_score_}\")"
      ]
    },
    {
      "cell_type": "code",
      "execution_count": 17,
      "metadata": {},
      "outputs": [
        {
          "name": "stdout",
          "output_type": "stream",
          "text": [
            "Best Logistic parameters: {'logistic__C': 10}\n",
            "Best F1 Score (cp = 0): 1.0\n",
            "Best Logistic parameters: {'logistic__C': 10}\n",
            "Best F1 Score (cp = 0): 1.0\n"
          ]
        }
      ],
      "source": [
        "ha_clean[\"cp_is_0\"] = (ha_clean[\"cp\"] == 0).astype(int)\n",
        "X = ha_clean.drop(columns=[\"cp\",\"cp_is_0\"])\n",
        "y = ha_clean[\"cp_is_0\"]\n",
        "X_train, X_test, y_train, y_test = train_test_split(X, y, test_size=0.25, random_state=42, stratify=y)\n",
        "log_pipeline = Pipeline(\n",
        "    [\n",
        "        (\"preprocessing\", ct),\n",
        "        (\"logistic\", LogisticRegression())\n",
        "    ]\n",
        ")\n",
        "params = {\"logistic__C\":[0.01,0.1,1,10,100]}\n",
        "logistic_gscv = GridSearchCV(log_pipeline,params, cv=5,scoring=\"f1\")\n",
        "best_log_model = logistic_gscv.fit(X_train,y_train)\n",
        "print(f\"Best Logistic parameters: {logistic_gscv.best_params_}\")\n",
        "print(f\"Best F1 Score (cp = 0): {logistic_gscv.best_score_}\")"
      ]
    },
    {
      "cell_type": "markdown",
      "metadata": {},
      "source": [
        "Based on the models for each of the cp categories the best one was the last one when cp = 0 but the f1 score is 1 which means it classified all the cases prefectly which is unlikely."
      ]
    },
    {
      "cell_type": "markdown",
      "metadata": {
        "id": "lXO3jbTU1ULR"
      },
      "source": [
        "## Q3: OvO\n",
        "\n",
        "Reduce your dataset to only the `0` and `1` types of chest pain.\n",
        "\n",
        "Then, fit a Logistic Regression to predict between the two groups, and report the **ROC-AUC**.  \n",
        "\n",
        "Repeat comparing category `0` to `2` and `3`.  Which pair was the OvO approach best at distinguishing?"
      ]
    },
    {
      "cell_type": "code",
      "execution_count": 25,
      "metadata": {
        "id": "THrjnRoV1siy"
      },
      "outputs": [
        {
          "name": "stdout",
          "output_type": "stream",
          "text": [
            "Best Logistic parameters: {'logistic__C': 0.1}\n",
            "Best ROC AUC (0-1): 0.8503634085213033\n",
            "Best Logistic parameters: {'logistic__C': 0.1}\n",
            "Best ROC AUC (0-1): 0.8503634085213033\n"
          ]
        }
      ],
      "source": [
        "data_1 = ha_clean[(ha_clean['cp'] == 1) | (ha_clean['cp'] == 0)]\n",
        "X = data_1.drop(columns=[\"cp\",\"cp_is_3\",\"cp_is_2\",\"cp_is_1\",\"cp_is_0\"])\n",
        "y = data_1[\"cp\"]\n",
        "X_train, X_test, y_train, y_test = train_test_split(X, y, test_size=0.25, random_state=42, stratify=y)\n",
        "logistic = Pipeline(\n",
        "    [\n",
        "        (\"preprocessing\",ct),\n",
        "        (\"logistic\",LogisticRegression(max_iter=1000))\n",
        "    ]\n",
        ")\n",
        "params = {\"logistic__C\":[0.01,0.1,1,10,100]}\n",
        "logistic_gscv = GridSearchCV(logistic,params,cv=5,scoring=\"roc_auc\")\n",
        "best_logistic = logistic_gscv.fit(X_train,y_train)\n",
        "print(f\"Best Logistic parameters: {logistic_gscv.best_params_}\")\n",
        "print(f\"Best ROC AUC (0-1): {logistic_gscv.best_score_}\")"
      ]
    },
    {
      "cell_type": "code",
      "execution_count": 26,
      "metadata": {},
      "outputs": [
        {
          "name": "stdout",
          "output_type": "stream",
          "text": [
            "Best Logistic parameters: {'logistic__C': 1}\n",
            "Best ROC AUC (0-1): 0.7389473684210526\n",
            "Best Logistic parameters: {'logistic__C': 1}\n",
            "Best ROC AUC (0-1): 0.7389473684210526\n"
          ]
        }
      ],
      "source": [
        "data_1 = ha_clean[(ha_clean['cp'] == 2) | (ha_clean['cp'] == 0)]\n",
        "X = data_1.drop(columns=[\"cp\",\"cp_is_3\",\"cp_is_2\",\"cp_is_1\",\"cp_is_0\"])\n",
        "y = data_1[\"cp\"]\n",
        "X_train, X_test, y_train, y_test = train_test_split(X, y, test_size=0.25, random_state=42, stratify=y)\n",
        "logistic = Pipeline(\n",
        "    [\n",
        "        (\"preprocessing\",ct),\n",
        "        (\"logistic\",LogisticRegression(max_iter=1000))\n",
        "    ]\n",
        ")\n",
        "params = {\"logistic__C\":[0.01,0.1,1,10,100]}\n",
        "logistic_gscv = GridSearchCV(logistic,params,cv=5,scoring=\"roc_auc\")\n",
        "best_logistic = logistic_gscv.fit(X_train,y_train)\n",
        "print(f\"Best Logistic parameters: {logistic_gscv.best_params_}\")\n",
        "print(f\"Best ROC AUC (0-1): {logistic_gscv.best_score_}\")"
      ]
    },
    {
      "cell_type": "code",
      "execution_count": 27,
      "metadata": {},
      "outputs": [
        {
          "name": "stdout",
          "output_type": "stream",
          "text": [
            "Best Logistic parameters: {'logistic__C': 0.1}\n",
            "Best ROC AUC (0-1): 0.8135087719298246\n",
            "Best Logistic parameters: {'logistic__C': 0.1}\n",
            "Best ROC AUC (0-1): 0.8135087719298246\n"
          ]
        }
      ],
      "source": [
        "data_1 = ha_clean[(ha_clean['cp'] == 3) | (ha_clean['cp'] == 0)]\n",
        "X = data_1.drop(columns=[\"cp\",\"cp_is_3\",\"cp_is_2\",\"cp_is_1\",\"cp_is_0\"])\n",
        "y = data_1[\"cp\"]\n",
        "X_train, X_test, y_train, y_test = train_test_split(X, y, test_size=0.25, random_state=42, stratify=y)\n",
        "logistic = Pipeline(\n",
        "    [\n",
        "        (\"preprocessing\",ct),\n",
        "        (\"logistic\",LogisticRegression(max_iter=1000))\n",
        "    ]\n",
        ")\n",
        "params = {\"logistic__C\":[0.01,0.1,1,10,100]}\n",
        "logistic_gscv = GridSearchCV(logistic,params,cv=5,scoring=\"roc_auc\")\n",
        "best_logistic = logistic_gscv.fit(X_train,y_train)\n",
        "print(f\"Best Logistic parameters: {logistic_gscv.best_params_}\")\n",
        "print(f\"Best ROC AUC (0-1): {logistic_gscv.best_score_}\")"
      ]
    },
    {
      "cell_type": "markdown",
      "metadata": {},
      "source": [
        "OvO was best at distinguishing when only a chest pain of 0 and 1 are in the model."
      ]
    }
  ],
  "metadata": {
    "colab": {
      "provenance": []
    },
    "kernelspec": {
      "display_name": "Python 3",
      "name": "python3"
    },
    "language_info": {
      "name": "python"
    }
  },
  "nbformat": 4,
  "nbformat_minor": 0
}
