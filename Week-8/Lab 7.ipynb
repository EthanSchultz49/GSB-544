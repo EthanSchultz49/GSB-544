{
 "cells": [
  {
   "cell_type": "raw",
   "metadata": {
    "vscode": {
     "languageId": "raw"
    }
   },
   "source": [
    "---\n",
    "title: \"Lab 7\"\n",
    "author: Ethan Schultz\n",
    "format:\n",
    "    html:\n",
    "        code-fold: true\n",
    "        table-of-contents: true\n",
    "        embed-resources: true\n",
    "---"
   ]
  },
  {
   "cell_type": "code",
   "execution_count": 2,
   "metadata": {},
   "outputs": [],
   "source": [
    "import pandas as pd\n",
    "import numpy as np\n",
    "from sklearn.linear_model import LogisticRegression\n",
    "from sklearn.model_selection import train_test_split, cross_val_score, GridSearchCV\n",
    "from sklearn.preprocessing import StandardScaler, OneHotEncoder\n",
    "from sklearn.compose import ColumnTransformer, make_column_selector\n",
    "from sklearn.pipeline import Pipeline\n",
    "from sklearn.neighbors import KNeighborsClassifier\n",
    "from sklearn.tree import DecisionTreeClassifier\n",
    "from sklearn.metrics import confusion_matrix, roc_auc_score, precision_score, recall_score, cohen_kappa_score\n",
    "from sklearn.metrics import roc_auc_score, confusion_matrix, roc_curve,auc\n",
    "from plotnine import *"
   ]
  },
  {
   "cell_type": "markdown",
   "metadata": {},
   "source": [
    "Part 1"
   ]
  },
  {
   "cell_type": "code",
   "execution_count": 4,
   "metadata": {},
   "outputs": [
    {
     "data": {
      "text/html": [
       "<div>\n",
       "<style scoped>\n",
       "    .dataframe tbody tr th:only-of-type {\n",
       "        vertical-align: middle;\n",
       "    }\n",
       "\n",
       "    .dataframe tbody tr th {\n",
       "        vertical-align: top;\n",
       "    }\n",
       "\n",
       "    .dataframe thead th {\n",
       "        text-align: right;\n",
       "    }\n",
       "</style>\n",
       "<table border=\"1\" class=\"dataframe\">\n",
       "  <thead>\n",
       "    <tr style=\"text-align: right;\">\n",
       "      <th></th>\n",
       "      <th>age</th>\n",
       "      <th>sex</th>\n",
       "      <th>cp</th>\n",
       "      <th>trtbps</th>\n",
       "      <th>chol</th>\n",
       "      <th>restecg</th>\n",
       "      <th>thalach</th>\n",
       "      <th>output</th>\n",
       "    </tr>\n",
       "  </thead>\n",
       "  <tbody>\n",
       "    <tr>\n",
       "      <th>0</th>\n",
       "      <td>63</td>\n",
       "      <td>1</td>\n",
       "      <td>3</td>\n",
       "      <td>145</td>\n",
       "      <td>233</td>\n",
       "      <td>0</td>\n",
       "      <td>150</td>\n",
       "      <td>1</td>\n",
       "    </tr>\n",
       "    <tr>\n",
       "      <th>1</th>\n",
       "      <td>37</td>\n",
       "      <td>1</td>\n",
       "      <td>2</td>\n",
       "      <td>130</td>\n",
       "      <td>250</td>\n",
       "      <td>1</td>\n",
       "      <td>187</td>\n",
       "      <td>1</td>\n",
       "    </tr>\n",
       "    <tr>\n",
       "      <th>2</th>\n",
       "      <td>56</td>\n",
       "      <td>1</td>\n",
       "      <td>1</td>\n",
       "      <td>120</td>\n",
       "      <td>236</td>\n",
       "      <td>1</td>\n",
       "      <td>178</td>\n",
       "      <td>1</td>\n",
       "    </tr>\n",
       "    <tr>\n",
       "      <th>3</th>\n",
       "      <td>57</td>\n",
       "      <td>0</td>\n",
       "      <td>0</td>\n",
       "      <td>120</td>\n",
       "      <td>354</td>\n",
       "      <td>1</td>\n",
       "      <td>163</td>\n",
       "      <td>1</td>\n",
       "    </tr>\n",
       "    <tr>\n",
       "      <th>4</th>\n",
       "      <td>57</td>\n",
       "      <td>1</td>\n",
       "      <td>0</td>\n",
       "      <td>140</td>\n",
       "      <td>192</td>\n",
       "      <td>1</td>\n",
       "      <td>148</td>\n",
       "      <td>1</td>\n",
       "    </tr>\n",
       "  </tbody>\n",
       "</table>\n",
       "</div>"
      ],
      "text/plain": [
       "   age  sex  cp  trtbps  chol  restecg  thalach  output\n",
       "0   63    1   3     145   233        0      150       1\n",
       "1   37    1   2     130   250        1      187       1\n",
       "2   56    1   1     120   236        1      178       1\n",
       "3   57    0   0     120   354        1      163       1\n",
       "4   57    1   0     140   192        1      148       1"
      ]
     },
     "execution_count": null,
     "metadata": {},
     "output_type": "execute_result"
    }
   ],
   "source": [
    "\n",
    "data = pd.read_csv(\"https://www.dropbox.com/s/aohbr6yb9ifmc8w/heart_attack.csv?dl=1\")\n",
    "data_clean = data.dropna()\n",
    "# 1 = male and 0 = female\n",
    "data_clean.head()"
   ]
  },
  {
   "cell_type": "code",
   "execution_count": 23,
   "metadata": {},
   "outputs": [
    {
     "name": "stdout",
     "output_type": "stream",
     "text": [
      "Cross-validated ROC AUC of the best model: 0.8196113174182139\n",
      "Cross-validated ROC AUC of the best model: 0.8196113174182139\n"
     ]
    },
    {
     "data": {
      "text/plain": [
       "array([[107,  20],\n",
       "       [ 38, 108]])"
      ]
     },
     "execution_count": null,
     "metadata": {},
     "output_type": "execute_result"
    }
   ],
   "source": [
    "#KNN\n",
    "X = data.drop(columns=[\"output\"])\n",
    "y = data[\"output\"]\n",
    "X_train, X_test, y_train, y_test = train_test_split(X, y, test_size=0.25, random_state=42)\n",
    "knn = KNeighborsClassifier(n_neighbors=6)\n",
    "ct = ColumnTransformer(\n",
    "    [\n",
    "        (\"standardize\", StandardScaler(),[\"age\",\"trtbps\",\"chol\",\"thalach\"] ),\n",
    "        (\"onehot\", OneHotEncoder(handle_unknown=\"ignore\"),[\"sex\",\"cp\",\"restecg\"])\n",
    "    ],\n",
    "    remainder=\"passthrough\" \n",
    ")\n",
    "\n",
    "knn_pipeline = Pipeline(\n",
    "    [\n",
    "        (\"preprocessing\", ct),\n",
    "        (\"Knn\", knn)\n",
    "    ]\n",
    ")\n",
    "k = {\"Knn__n_neighbors\": np.arange(1,20)}\n",
    "gscv = GridSearchCV(knn_pipeline, k, cv=5, scoring=\"roc_auc\")\n",
    "gscv.fit(X,y)\n",
    "best_k = gscv.best_params_[\"Knn__n_neighbors\"]\n",
    "best_k_model = Pipeline(\n",
    "    [\n",
    "        (\"preprecessing\",ct),\n",
    "        (\"Knn\",KNeighborsClassifier(n_neighbors=best_k))\n",
    "    ]\n",
    ")\n",
    "best_model = best_k_model.fit(X,y)\n",
    "print(f\"Cross-validated ROC AUC of the best model: {gscv.best_score_:}\")\n",
    "y_pred = best_model.predict(X)\n",
    "cm1 = confusion_matrix(y, y_pred)\n",
    "cm1"
   ]
  },
  {
   "cell_type": "markdown",
   "metadata": {},
   "source": [
    "Multiple differnt combinations of predictor variables were used in pipelines but the best for purley predictive classification purposes a model where  it included all the of the predictor varibles in the dataset both numerical and categorical provided the best AUC also tuning was preformed to find the best k of values 1-20."
   ]
  },
  {
   "cell_type": "code",
   "execution_count": 24,
   "metadata": {},
   "outputs": [
    {
     "name": "stdout",
     "output_type": "stream",
     "text": [
      "Cross-validated ROC AUC of the best model: 0.8642935455349248\n",
      "[[ 95  32]\n",
      " [ 23 123]]\n",
      "Coefficients with Feature Names:\n",
      "                 Feature  Coefficient\n",
      "6           onehot__cp_0    -1.277997\n",
      "5          onehot__sex_1    -0.898612\n",
      "4          onehot__sex_0     0.897716\n",
      "3   standardize__thalach     0.729486\n",
      "7           onehot__cp_1     0.545402\n",
      "8           onehot__cp_2     0.476397\n",
      "1    standardize__trtbps    -0.297262\n",
      "9           onehot__cp_3     0.255301\n",
      "2      standardize__chol    -0.245867\n",
      "11     onehot__restecg_1     0.244657\n",
      "0       standardize__age    -0.222244\n",
      "12     onehot__restecg_2    -0.163495\n",
      "10     onehot__restecg_0    -0.082059\n",
      "\n",
      "Intercept:\n",
      "[0.79431216]\n",
      "Cross-validated ROC AUC of the best model: 0.8642935455349248\n",
      "[[ 95  32]\n",
      " [ 23 123]]\n",
      "Coefficients with Feature Names:\n",
      "                 Feature  Coefficient\n",
      "6           onehot__cp_0    -1.277997\n",
      "5          onehot__sex_1    -0.898612\n",
      "4          onehot__sex_0     0.897716\n",
      "3   standardize__thalach     0.729486\n",
      "7           onehot__cp_1     0.545402\n",
      "8           onehot__cp_2     0.476397\n",
      "1    standardize__trtbps    -0.297262\n",
      "9           onehot__cp_3     0.255301\n",
      "2      standardize__chol    -0.245867\n",
      "11     onehot__restecg_1     0.244657\n",
      "0       standardize__age    -0.222244\n",
      "12     onehot__restecg_2    -0.163495\n",
      "10     onehot__restecg_0    -0.082059\n",
      "\n",
      "Intercept:\n",
      "[0.79431216]\n"
     ]
    }
   ],
   "source": [
    "#Logistic Regression\n",
    "logistic_pipeline = Pipeline(\n",
    "    [\n",
    "        (\"preprocessing\",ct),\n",
    "        (\"Logistic\", LogisticRegression(max_iter=500, random_state=42))\n",
    "    ]\n",
    ")\n",
    "param_grid = {\"Logistic__C\": np.logspace(-3,3,10)}\n",
    "gscv = GridSearchCV(logistic_pipeline,param_grid, cv=5, scoring=\"roc_auc\")\n",
    "gscv.fit(X,y)\n",
    "\n",
    "best_log = gscv.best_params_[\"Logistic__C\"]\n",
    "best_log_model = Pipeline(\n",
    "    [\n",
    "        (\"Preprocessing\",ct),\n",
    "        (\"Logistic\", LogisticRegression(C=best_log, max_iter=500, random_state=42))\n",
    "    ]\n",
    ")\n",
    "final_model_log = best_log_model.fit(X,y)\n",
    "print(f\"Cross-validated ROC AUC of the best model: {gscv.best_score_:}\")\n",
    "y_pred = best_log_model.predict(X)\n",
    "cm2 = confusion_matrix(y, y_pred)\n",
    "print(cm2)\n",
    "logistic_model = final_model_log.named_steps[\"Logistic\"]\n",
    "\n",
    "coefficients = logistic_model.coef_  \n",
    "intercept = logistic_model.intercept_  \n",
    "preprocessor = final_model_log.named_steps[\"Preprocessing\"]\n",
    "feature_names = preprocessor.get_feature_names_out()\n",
    "coefficients_df = pd.DataFrame(\n",
    "    {\"Feature\": feature_names, \"Coefficient\": coefficients.flatten()}\n",
    ")\n",
    "coefficients_df = coefficients_df.reindex(coefficients_df.Coefficient.abs().sort_values(ascending=False).index)\n",
    "print(\"Coefficients with Feature Names:\")\n",
    "print(coefficients_df)\n",
    "print(\"\\nIntercept:\")\n",
    "print(intercept)\n",
    "\n"
   ]
  },
  {
   "cell_type": "markdown",
   "metadata": {},
   "source": [
    "Using a similar process to the KNN instead we are now using logistic regression but the same steps were taken including standerdization, dummyfying, tuning, and predicting. Now we have some coefficients that we can interperet in the output shown above and a few most important ones seem to be cp of 0 and sex. Holding all else constant reporting a chest pain of 0 decreases your log odds of being diagnosed heart disease by 1.28. Since 0 is female being a female increases you log odds of ebing diagnosed with heart disease by 0.899."
   ]
  },
  {
   "cell_type": "code",
   "execution_count": 25,
   "metadata": {},
   "outputs": [
    {
     "name": "stdout",
     "output_type": "stream",
     "text": [
      "Cross-validated ROC AUC of the best model: 0.7721\n",
      "Cross-validated ROC AUC of the best model: 0.7721\n"
     ]
    },
    {
     "data": {
      "text/plain": [
       "array([[ 94,  33],\n",
       "       [ 34, 112]])"
      ]
     },
     "execution_count": null,
     "metadata": {},
     "output_type": "execute_result"
    }
   ],
   "source": [
    "dt_pipeline = Pipeline(\n",
    "    [\n",
    "        (\"preprocessing\", ct),\n",
    "        (\"DT\", DecisionTreeClassifier(random_state=42))\n",
    "    ]\n",
    ")\n",
    "\n",
    "param_grid = {\"DT__max_depth\": np.arange(1, 21)}\n",
    "gscv = GridSearchCV(dt_pipeline, param_grid, cv=5, scoring=\"roc_auc\")\n",
    "gscv.fit(X, y)\n",
    "\n",
    "best_tree = gscv.best_params_[\"DT__max_depth\"]\n",
    "\n",
    "best_tree_model = Pipeline(\n",
    "    [\n",
    "        (\"Preprocessing\", ct),\n",
    "        (\"DT\", DecisionTreeClassifier(max_depth=best_tree, random_state=42))  \n",
    "    ]\n",
    ")\n",
    "\n",
    "final_model = best_tree_model.fit(X, y)\n",
    "\n",
    "print(f\"Cross-validated ROC AUC of the best model: {gscv.best_score_:.4f}\")\n",
    "\n",
    "y_pred = final_model.predict(X)\n",
    "cm3 = confusion_matrix(y, y_pred)\n",
    "cm3\n"
   ]
  },
  {
   "cell_type": "markdown",
   "metadata": {},
   "source": [
    "Interpretation:\n",
    "Using the model with the biggest auc_roc which was the logistic model the coefficients from is with the biggest values are ROC , SEX, ans AGE which are the most important predictor varibles for is someone is at risk of a heart attack."
   ]
  },
  {
   "cell_type": "code",
   "execution_count": 26,
   "metadata": {},
   "outputs": [
    {
     "data": {
      "image/png": "[encoded data removed]"
     },
     "metadata": {},
     "output_type": "display_data"
    }
   ],
   "source": [
    "\n",
    "models = {\n",
    "    \"KNN\": best_model,\n",
    "    \"Logistic Regression\": final_model_log,\n",
    "    \"Decision Tree\": final_model\n",
    "}\n",
    "\n",
    "roc_data = []\n",
    "\n",
    "for name, model in models.items():\n",
    "    y_pred_prob = model.predict_proba(X)[:, 1]\n",
    "    fpr, tpr, _ = roc_curve(y, y_pred_prob)\n",
    "    roc_auc = auc(fpr, tpr)\n",
    "    df = pd.DataFrame({\"FPR\": fpr, \"TPR\": tpr, \"Model\": f\"{name} (AUC = {roc_auc:.2f})\"})\n",
    "    roc_data.append(df)\n",
    "roc_df = pd.concat(roc_data, ignore_index=True)\n",
    "\n",
    "(\n",
    "    ggplot(roc_df, aes(x=\"FPR\", y=\"TPR\", color=\"Model\")) +\n",
    "    geom_line(size=1.2) +\n",
    "    geom_abline(slope=1, intercept=0, linetype=\"dashed\", color=\"gray\") +  # Diagonal line for random guessing\n",
    "    labs(\n",
    "        title=\"ROC Curves for Models\",\n",
    "        x=\"False Positive Rate (FPR)\",\n",
    "        y=\"True Positive Rate (TPR)\",\n",
    "        color=\"Model\"\n",
    "    ) +\n",
    "    theme_minimal() +\n",
    "    ggtitle(\"ROC Curve Comparison\")\n",
    ")\n"
   ]
  },
  {
   "cell_type": "markdown",
   "metadata": {},
   "source": [
    "Part 2"
   ]
  },
  {
   "cell_type": "code",
   "execution_count": 27,
   "metadata": {},
   "outputs": [],
   "source": [
    "def compute_metrics(confusion_matrix):\n",
    "\n",
    "    tn = confusion_matrix[0, 0]\n",
    "    fp = confusion_matrix[0, 1]\n",
    "    fn = confusion_matrix[1, 0]\n",
    "    tp = confusion_matrix[1, 1]\n",
    "\n",
    "    tpr = tp / (tp + fn) if (tp + fn) != 0 else 0  \n",
    "    precision = tp / (tp + fp) if (tp + fp) != 0 else 0  \n",
    "    tnr = tn / (tn + fp) if (tn + fp) != 0 else 0  \n",
    "\n",
    "    return {\n",
    "        \"TPR (Recall/Sensitivity)\": tpr,\n",
    "        \"Precision (PPV)\": precision,\n",
    "        \"TNR (Specificity)\": tnr\n",
    "    }\n"
   ]
  },
  {
   "cell_type": "code",
   "execution_count": 14,
   "metadata": {},
   "outputs": [
    {
     "data": {
      "text/plain": [
       "{'TPR (Recall/Sensitivity)': 0.7397260273972602,\n",
       " 'Precision (PPV)': 0.84375,\n",
       " 'TNR (Specificity)': 0.84251968503937}"
      ]
     },
     "execution_count": null,
     "metadata": {},
     "output_type": "execute_result"
    }
   ],
   "source": [
    "knn_metrics = compute_metrics(cm1)\n",
    "knn_metrics"
   ]
  },
  {
   "cell_type": "code",
   "execution_count": 15,
   "metadata": {},
   "outputs": [
    {
     "data": {
      "text/plain": [
       "{'TPR (Recall/Sensitivity)': 0.8424657534246576,\n",
       " 'Precision (PPV)': 0.7935483870967742,\n",
       " 'TNR (Specificity)': 0.7480314960629921}"
      ]
     },
     "execution_count": null,
     "metadata": {},
     "output_type": "execute_result"
    }
   ],
   "source": [
    "logistic_metrics = compute_metrics(cm2)\n",
    "logistic_metrics"
   ]
  },
  {
   "cell_type": "code",
   "execution_count": 16,
   "metadata": {},
   "outputs": [
    {
     "data": {
      "text/plain": [
       "{'TPR (Recall/Sensitivity)': 0.7671232876712328,\n",
       " 'Precision (PPV)': 0.7724137931034483,\n",
       " 'TNR (Specificity)': 0.7401574803149606}"
      ]
     },
     "execution_count": null,
     "metadata": {},
     "output_type": "execute_result"
    }
   ],
   "source": [
    "tree_metrics = compute_metrics(cm3)\n",
    "tree_metrics"
   ]
  },
  {
   "cell_type": "markdown",
   "metadata": {},
   "source": [
    "Part 3"
   ]
  },
  {
   "cell_type": "markdown",
   "metadata": {},
   "source": [
    "Question 1: For this quesiton I would use true positive rate because it seems most important to correctly claffisy a patient in the right category and then that patient actually be in that category becasue misclassfying someone would result in a lawsuit and they deem that really important. Based on this I would use the logistic regression model because it has the highest TPR rate and that is the metric we want here. This metric would be the best at correctly classifying all the highrisk patients. I would expect the score to be around 85% becasue that was the TPR score.\n",
    "\n",
    "Question 2: For this question I would use precision because we need to use a metric that does best at classifying heart attack risk with people who are truley at risk. I would reccomend the KNN model becasue it had the highest precision rate. I would expect that the precision to be around 84.37%.\n",
    "\n",
    "Question 3:  For this quesiton I would use TPR because we are interested in cases of people that actually had heart attacks and we ant to correctly classify them making TPR the best choice. Again I would use the logistic regression model because it had the highest TPR rate. I would expect the metrick to classify them around 85% of the time based on the score.\n",
    "\n",
    "Question 4: For this I would use the precision because it seems like they want ot see if their new doctors got their diagnosis right so it would make sense that we want to see the people classified most correclty which is overall precision. I would suggest the KNN model becuase it had the highest precision and I would guess that it would habe about 85% accuracuy as it did in the KNN model."
   ]
  },
  {
   "cell_type": "markdown",
   "metadata": {},
   "source": [
    "Part 4"
   ]
  },
  {
   "cell_type": "code",
   "execution_count": 35,
   "metadata": {},
   "outputs": [
    {
     "name": "stdout",
     "output_type": "stream",
     "text": [
      "\n",
      "Evaluating Logistic Regression...\n",
      "Confusion Matrix:\n",
      "[[ 9  2]\n",
      " [ 4 15]]\n",
      "ROC AUC: 0.8900\n",
      "Precision: 0.8824\n",
      "Recall: 0.7895\n",
      "\n",
      "Evaluating KNN...\n",
      "Confusion Matrix:\n",
      "[[10  1]\n",
      " [ 8 11]]\n",
      "ROC AUC: 0.8230\n",
      "Precision: 0.9167\n",
      "Recall: 0.5789\n",
      "\n",
      "Evaluating Decision Tree...\n",
      "Confusion Matrix:\n",
      "[[10  1]\n",
      " [ 5 14]]\n",
      "ROC AUC: 0.8923\n",
      "Precision: 0.9333\n",
      "Recall: 0.7368\n",
      "\n",
      "\n",
      "Evaluating Logistic Regression...\n",
      "Confusion Matrix:\n",
      "[[ 9  2]\n",
      " [ 4 15]]\n",
      "ROC AUC: 0.8900\n",
      "Precision: 0.8824\n",
      "Recall: 0.7895\n",
      "\n",
      "Evaluating KNN...\n",
      "Confusion Matrix:\n",
      "[[10  1]\n",
      " [ 8 11]]\n",
      "ROC AUC: 0.8230\n",
      "Precision: 0.9167\n",
      "Recall: 0.5789\n",
      "\n",
      "Evaluating Decision Tree...\n",
      "Confusion Matrix:\n",
      "[[10  1]\n",
      " [ 5 14]]\n",
      "ROC AUC: 0.8923\n",
      "Precision: 0.9333\n",
      "Recall: 0.7368\n"
     ]
    }
   ],
   "source": [
    "\n",
    "ha_validation = pd.read_csv(\"https://www.dropbox.com/s/jkwqdiyx6o6oad0/heart_attack_validation.csv?dl=1\")\n",
    "X = ha_validation.drop(columns=[\"output\"])\n",
    "y = ha_validation[\"output\"]\n",
    "\n",
    "def evaluate_model(model, X, y, model_name):\n",
    "    print(f\"\\nEvaluating {model_name}...\")\n",
    "    \n",
    "    y_pred = model.predict(X)\n",
    "    y_pred_proba = model.predict_proba(X)[:, 1] if hasattr(model, \"predict_proba\") else None\n",
    "    \n",
    "    cm = confusion_matrix(y, y_pred)\n",
    "    roc_auc = roc_auc_score(y, y_pred_proba) if y_pred_proba is not None else None\n",
    "    precision = precision_score(y, y_pred)\n",
    "    recall = recall_score(y, y_pred)\n",
    "    \n",
    "    print(f\"Confusion Matrix:\\n{cm}\")\n",
    "    print(f\"ROC AUC: {roc_auc:.4f}\" if roc_auc is not None else \"ROC AUC: Not Available\")\n",
    "    print(f\"Precision: {precision:.4f}\")\n",
    "    print(f\"Recall: {recall:.4f}\")\n",
    "    \n",
    "    return {\"ROC AUC\": roc_auc, \"Precision\": precision, \"Recall\": recall}\n",
    "logistic_results = evaluate_model(best_log_model, X, y, \"Logistic Regression\")\n",
    "knn_results = evaluate_model(best_k_model, X, y, \"KNN\")\n",
    "tree_results = evaluate_model(best_tree_model, X, y, \"Decision Tree\")\n"
   ]
  },
  {
   "cell_type": "markdown",
   "metadata": {},
   "source": [
    "KNN model: The ROC AUC was the same from the origional data and this new test data indicating a similar preformance. The precision increased by about .06 but the recall dropped indicating that the model had a harder time indicating true 1 cases in this new validation set.\n",
    "\n",
    "Logistic: The AUC increased by about 0.03 in this new validation set from our best model from part one. The precision and recall for this model did about 0.05 better and about 0.04 worse idicating the same pattern as in the KNN model.\n",
    "\n",
    "Tree: The ROC_AUD incerased a lot from this new validation set by .18 and the precision and recall both increased in the validation set. From the three models the tree model out preformed the best in this validation set by the metrics listed above."
   ]
  },
  {
   "cell_type": "markdown",
   "metadata": {},
   "source": [
    "Part 5"
   ]
  },
  {
   "cell_type": "code",
   "execution_count": 37,
   "metadata": {},
   "outputs": [
    {
     "name": "stdout",
     "output_type": "stream",
     "text": [
      "\n",
      "Evaluating Cohen's Kappa for Logistic Regression...\n",
      "Cohen's Kappa: 0.5853\n",
      "\n",
      "Evaluating Cohen's Kappa for KNN...\n",
      "Cohen's Kappa: 0.4304\n",
      "\n",
      "Evaluating Cohen's Kappa for Decision Tree...\n",
      "Cohen's Kappa: 0.6000\n",
      "\n",
      "\n",
      "Evaluating Cohen's Kappa for Logistic Regression...\n",
      "Cohen's Kappa: 0.5853\n",
      "\n",
      "Evaluating Cohen's Kappa for KNN...\n",
      "Cohen's Kappa: 0.4304\n",
      "\n",
      "Evaluating Cohen's Kappa for Decision Tree...\n",
      "Cohen's Kappa: 0.6000\n"
     ]
    }
   ],
   "source": [
    "\n",
    "def evaluate_cohen_kappa(model, X, y, model_name):\n",
    "    print(f\"\\nEvaluating Cohen's Kappa for {model_name}...\")\n",
    "    \n",
    "    y_pred = model.predict(X)\n",
    "    \n",
    "    kappa = cohen_kappa_score(y, y_pred)\n",
    "    print(f\"Cohen's Kappa: {kappa:.4f}\")\n",
    "    return kappa\n",
    "    \n",
    "logistic_kappa = evaluate_cohen_kappa(best_log_model, X, y, \"Logistic Regression\")\n",
    "knn_kappa = evaluate_cohen_kappa(best_k_model, X, y, \"KNN\")\n",
    "tree_kappa = evaluate_cohen_kappa(best_tree_model, X, y, \"Decision Tree\")\n"
   ]
  },
  {
   "cell_type": "markdown",
   "metadata": {},
   "source": [
    "Cohens kappa is another mteric used for classification but it also adds another level of classification one that is b yrandom chance and is a metric observed from -1,0,1. After some more research it was seen that this is a popular metric that is used when the data is unbalenced, in this case if output had a disproportinate amount of 0 to 1's or visa versa. From our three models the model that had the highest cohen kappa score was the decision tree model followed by the logistic then KNN. I would say that this doesn't change too much about our overall decisions it jsut adds another metric that could be used to evalutate model preformace. Each model could still be used it is more of the data and which model ends up working best and being able to justify that model being used on the various metrics used in this lab."
   ]
  },
  {
   "cell_type": "markdown",
   "metadata": {},
   "source": [
    "Chat gpt was used acorss the duration of this lab for general syntax issues and any roadblocks that came along the way after trouble shooting. It wa also used when making the ROC plot for all the models and to make the function for TPR,FPR, and sensitivity. It wa also used for the kohens kappa part to understand what this metric was doing and how to implement it to see how well our models preformed on the validation set."
   ]
  }
 ],
 "metadata": {
  "language_info": {
   "name": "python"
  }
 },
 "nbformat": 4,
 "nbformat_minor": 2
}
